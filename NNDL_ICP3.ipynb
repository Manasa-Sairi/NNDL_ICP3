{
  "nbformat": 4,
  "nbformat_minor": 0,
  "metadata": {
    "colab": {
      "provenance": [],
      "authorship_tag": "ABX9TyMnIynO3UzTyc+T5GoAOQ0M",
      "include_colab_link": true
    },
    "kernelspec": {
      "name": "python3",
      "display_name": "Python 3"
    },
    "language_info": {
      "name": "python"
    }
  },
  "cells": [
    {
      "cell_type": "markdown",
      "metadata": {
        "id": "view-in-github",
        "colab_type": "text"
      },
      "source": [
        "<a href=\"https://colab.research.google.com/github/Manasa-Sairi/NNDL_ICP3/blob/main/NNDL_ICP3.ipynb\" target=\"_parent\"><img src=\"https://colab.research.google.com/assets/colab-badge.svg\" alt=\"Open In Colab\"/></a>"
      ]
    },
    {
      "cell_type": "code",
      "execution_count": 3,
      "metadata": {
        "colab": {
          "base_uri": "https://localhost:8080/"
        },
        "id": "kW2wgKMzD5UY",
        "outputId": "44691b19-6db0-4d90-8f24-142d5f0dbe5f"
      },
      "outputs": [
        {
          "output_type": "stream",
          "name": "stdout",
          "text": [
            "Total Employees: 4\n",
            "Average Salary: 60000.0\n"
          ]
        }
      ],
      "source": [
        "\n",
        "#Employee Class\n",
        "class Employee:\n",
        "    num_of_employees = 0\n",
        "\n",
        "    #initializing the attributes\n",
        "    def __init__(self, name, family, salary, department):\n",
        "        self.name = name\n",
        "        self.family = family\n",
        "        self.salary = salary\n",
        "        self.department = department\n",
        "        Employee.num_of_employees += 1\n",
        "\n",
        "    #Average Salary Method\n",
        "    def averageSalary(self, employees):\n",
        "        total_salary = sum(emp.salary for emp in employees)\n",
        "        return total_salary / len(employees)\n",
        "#Full Time Employee Class - Super Class\n",
        "class FulltimeEmployee(Employee):\n",
        "    def __init__(self, name, family, salary, department, employment_type):\n",
        "        super().__init__(name, family, salary, department)\n",
        "        self.employment_type = employment_type\n",
        "\n",
        "# Instances of Employee class\n",
        "employee1 = Employee(\"Nivas\", \"Sairi\", 50000, \"Senior Software\")\n",
        "employee2 = Employee(\"Manasa\", \"Sairi\", 80000, \"Manager\")\n",
        "\n",
        "# Instances of FulltimeEmployee class\n",
        "fulltime1 = FulltimeEmployee(\"Afreen\", \"Begum\", 50000, \"Engineering\", \"FullTime\")\n",
        "fulltime2 = FulltimeEmployee(\"Mallika\", \"venam\", 60000, \"Marketing\", \"PartTime\")\n",
        "\n",
        "# Call member functions\n",
        "employees = [employee1, employee2, fulltime1, fulltime2]\n",
        "avgSalary = employee1.averageSalary(employees)\n",
        "\n",
        "print(\"Total Employees:\", Employee.num_of_employees)\n",
        "print(\"Average Salary:\", avgSalary)\n"
      ]
    },
    {
      "cell_type": "code",
      "source": [
        "import numpy as np\n",
        "#generating a vector\n",
        "vector = np.random.uniform(1, 20, 20)\n",
        "\n",
        "#reshaping the vector into 4 * 5 matrix\n",
        "matrix = vector.reshape(4, 5)\n",
        "\n",
        "print(\"Original Matrix: \\n\",matrix)\n",
        "\n",
        "#finding the index of the max element along axis = 1\n",
        "indices = np.argmax(matrix, axis=1)\n",
        "\n",
        "#Create a range of indices for each row\n",
        "row_indices = np.arange(matrix.shape[0])\n",
        "\n",
        "#Use advanced indexing to replace max values with 0\n",
        "matrix[row_indices, indices] = 0\n",
        "\n",
        "print(\"Resultant Matrix: \\n\",matrix)\n",
        ""
      ],
      "metadata": {
        "colab": {
          "base_uri": "https://localhost:8080/"
        },
        "id": "Unt9SafUkoiv",
        "outputId": "7dce9fee-1081-4b3a-ea1e-e5f4eff122ca"
      },
      "execution_count": 1,
      "outputs": [
        {
          "output_type": "stream",
          "name": "stdout",
          "text": [
            "Original Matrix: \n",
            " [[ 8.32931813  4.37128747  3.59617478  8.25034931 13.89372329]\n",
            " [13.26715621 19.14978532 18.59458404  3.74493385 12.83775549]\n",
            " [ 7.07944109 11.24343097 14.06950517  2.11341656 17.35466612]\n",
            " [ 2.45963082 18.8228951   9.24280584 17.71295382  4.00512132]]\n",
            "Resultant Matrix: \n",
            " [[ 8.32931813  4.37128747  3.59617478  8.25034931  0.        ]\n",
            " [13.26715621  0.         18.59458404  3.74493385 12.83775549]\n",
            " [ 7.07944109 11.24343097 14.06950517  2.11341656  0.        ]\n",
            " [ 2.45963082  0.          9.24280584 17.71295382  4.00512132]]\n"
          ]
        }
      ]
    }
  ]
}